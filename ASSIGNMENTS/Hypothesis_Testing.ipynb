{
 "cells": [
  {
   "cell_type": "code",
   "execution_count": null,
   "id": "6c64b29d",
   "metadata": {},
   "outputs": [],
   "source": [
    "# Import lib\n",
    "import numpyraries as np\n",
    "from scipy.stats import norm\n"
   ]
  },
  {
   "cell_type": "code",
   "execution_count": 2,
   "id": "2fea9cc5",
   "metadata": {},
   "outputs": [],
   "source": [
    "# Given Data\n",
    "sample_mean = 3050   # Observed mean weekly cost\n",
    "n = 25               # Sample size\n",
    "X_mean = 600         # Units produced per week\n",
    "sigma_X = 25         # Std dev of X\n",
    "alpha = 0.05         # Significance level\n",
    "theoretical_mean = 1000 + 5 * X_mean\n"
   ]
  },
  {
   "cell_type": "code",
   "execution_count": 3,
   "id": "5a3d4d48",
   "metadata": {},
   "outputs": [],
   "source": [
    "sigma = 5 * sigma_X"
   ]
  },
  {
   "cell_type": "code",
   "execution_count": 4,
   "id": "572c62fa",
   "metadata": {},
   "outputs": [],
   "source": [
    "# Standard error of the mean\n",
    "SE = sigma / np.sqrt(n)"
   ]
  },
  {
   "cell_type": "code",
   "execution_count": 5,
   "id": "6872461c",
   "metadata": {},
   "outputs": [
    {
     "name": "stdout",
     "output_type": "stream",
     "text": [
      "Theoretical Mean Cost: 4000\n",
      "Sample Mean Cost: 3050\n",
      "Standard Deviation (σ): 125\n",
      "Standard Error (SE): 25.0\n",
      "Test Statistic (Z): -38.0\n"
     ]
    }
   ],
   "source": [
    "# Test statistic (Z)\n",
    "Z = (sample_mean - theoretical_mean) / SE\n",
    "\n",
    "print(\"Theoretical Mean Cost:\", theoretical_mean)\n",
    "print(\"Sample Mean Cost:\", sample_mean)\n",
    "print(\"Standard Deviation (σ):\", sigma)\n",
    "print(\"Standard Error (SE):\", SE)\n",
    "print(\"Test Statistic (Z):\", Z)"
   ]
  },
  {
   "cell_type": "code",
   "execution_count": 6,
   "id": "61055d11",
   "metadata": {},
   "outputs": [
    {
     "name": "stdout",
     "output_type": "stream",
     "text": [
      "Critical Value (Z_0.05): 1.6448536269514722\n"
     ]
    }
   ],
   "source": [
    "critical_value = norm.ppf(1 - alpha)\n",
    "print(\"Critical Value (Z_0.05):\", critical_value)\n"
   ]
  },
  {
   "cell_type": "code",
   "execution_count": null,
   "id": "7e31880f",
   "metadata": {},
   "outputs": [
    {
     "name": "stdout",
     "output_type": "stream",
     "text": [
      "\n",
      "❌ Fail to Reject H0: No strong evidence that costs are higher than the model.\n"
     ]
    }
   ],
   "source": [
    "# Decision\n",
    "if Z > critical_value:\n",
    "    print(\"\\n Reject H0: There IS evidence that weekly operating costs are higher than the model suggests.\")\n",
    "else:\n",
    "    print(\"\\n Fail to Reject H0: No strong evidence that costs are higher than the model.\")\n"
   ]
  }
 ],
 "metadata": {
  "kernelspec": {
   "display_name": "Python 3",
   "language": "python",
   "name": "python3"
  },
  "language_info": {
   "codemirror_mode": {
    "name": "ipython",
    "version": 3
   },
   "file_extension": ".py",
   "mimetype": "text/x-python",
   "name": "python",
   "nbconvert_exporter": "python",
   "pygments_lexer": "ipython3",
   "version": "3.10.6"
  }
 },
 "nbformat": 4,
 "nbformat_minor": 5
}
